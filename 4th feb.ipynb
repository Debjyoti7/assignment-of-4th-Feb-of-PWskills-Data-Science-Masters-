{
 "cells": [
  {
   "cell_type": "markdown",
   "id": "574899d1-3348-4b19-9177-e4bc09e7ae7e",
   "metadata": {},
   "source": [
    "# Question 1"
   ]
  },
  {
   "cell_type": "markdown",
   "id": "84ec07fc-310a-4f8d-b841-42540bb0deb2",
   "metadata": {},
   "source": [
    "# Q1. Create a python program to sort the given list of tuples based on integer value using a lambda function. [('Sachin Tendulkar', 34357), ('Ricky Ponting', 27483), ('Jack Kallis', 25534), ('Virat Kohli', 24936)]"
   ]
  },
  {
   "cell_type": "code",
   "execution_count": 1,
   "id": "16f08f65-15eb-4e20-ad31-e4780a3b7640",
   "metadata": {},
   "outputs": [
    {
     "name": "stdout",
     "output_type": "stream",
     "text": [
      "Sorted list of tuples based on integer value:\n",
      "[('Virat Kohli', 24936), ('Jack Kallis', 25534), ('Ricky Ponting', 27483), ('Sachin Tendulkar', 34357)]\n"
     ]
    }
   ],
   "source": [
    "player_scores = [('Sachin Tendulkar', 34357), ('Ricky Ponting', 27483), ('Jack Kallis', 25534), ('Virat Kohli', 24936)]\n",
    "\n",
    "sorted_scores = sorted(player_scores, key=lambda x: x[1])\n",
    "\n",
    "print(\"Sorted list of tuples based on integer value:\")\n",
    "print(sorted_scores)\n"
   ]
  },
  {
   "cell_type": "markdown",
   "id": "558dc03b-7337-467f-b39c-25329f9d48e4",
   "metadata": {},
   "source": [
    "# Question 2"
   ]
  },
  {
   "cell_type": "markdown",
   "id": "5873d835-56cd-4e67-a7fd-2331c483c0a0",
   "metadata": {},
   "source": [
    "# Write a Python Program to find the squares of all the numbers in the given list of integers using lambda and map functions. [1, 2, 3, 4, 5, 6, 7, 8, 9, 10]"
   ]
  },
  {
   "cell_type": "code",
   "execution_count": 2,
   "id": "c4d76a97-fa40-4199-850e-a19232b388fd",
   "metadata": {},
   "outputs": [],
   "source": [
    "l = [1,2,3,4,5,6,7,8,9,10]\n"
   ]
  },
  {
   "cell_type": "code",
   "execution_count": 3,
   "id": "ca61610c-6aaa-4e5d-bab1-3f5681cf8f58",
   "metadata": {},
   "outputs": [
    {
     "data": {
      "text/plain": [
       "[1, 4, 9, 16, 25, 36, 49, 64, 81, 100]"
      ]
     },
     "execution_count": 3,
     "metadata": {},
     "output_type": "execute_result"
    }
   ],
   "source": [
    "list(map(lambda x : x**2 , l))"
   ]
  },
  {
   "cell_type": "markdown",
   "id": "078f63d8-2cec-4688-9023-0de266e37eda",
   "metadata": {},
   "source": [
    "# Question 3"
   ]
  },
  {
   "cell_type": "markdown",
   "id": "2f326595-4351-4934-a062-c52dbda03af2",
   "metadata": {},
   "source": [
    "# Write a python program to convert the given list of integers into a tuple of strings. Use map and lambda functions Given String: [1, 2, 3, 4, 5, 6, 7, 8, 9, 10] Expected output: ('1', '2', '3', '4', '5', '6', '7', '8', '9', '10')"
   ]
  },
  {
   "cell_type": "code",
   "execution_count": 3,
   "id": "a9d4bf29-bdba-4ee9-bc84-fc434da6fd06",
   "metadata": {},
   "outputs": [],
   "source": [
    "string= [1,2,3,4,5,6,7,8,9,10]"
   ]
  },
  {
   "cell_type": "code",
   "execution_count": 4,
   "id": "422ecdfd-a6f0-4300-8f6c-b17fb98e80b1",
   "metadata": {},
   "outputs": [
    {
     "data": {
      "text/plain": [
       "('1', '2', '3', '4', '5', '6', '7', '8', '9', '10')"
      ]
     },
     "execution_count": 4,
     "metadata": {},
     "output_type": "execute_result"
    }
   ],
   "source": [
    "tuple(map(lambda x : str(x) , string))"
   ]
  },
  {
   "cell_type": "markdown",
   "id": "0a4be1de-fbb8-4e9f-a455-b10d4ffb635e",
   "metadata": {},
   "source": [
    "# Question 4"
   ]
  },
  {
   "cell_type": "markdown",
   "id": "98a883d3-9b14-4510-8fe2-ac291edd695f",
   "metadata": {},
   "source": [
    "# Write a python program using reduce function to compute the product of a list containing numbers from 1 to 25."
   ]
  },
  {
   "cell_type": "code",
   "execution_count": 3,
   "id": "18d3fb1a-c322-411e-bc02-839e317007dc",
   "metadata": {},
   "outputs": [
    {
     "name": "stdout",
     "output_type": "stream",
     "text": [
      "The product of numbers from 1 to 25 is: 15511210043330985984000000\n"
     ]
    }
   ],
   "source": [
    "from functools import reduce\n",
    "\n",
    "numbers = [x for x in range(1, 26)]\n",
    "product = reduce(lambda x, y: x * y, numbers)\n",
    "\n",
    "print(\"The product of numbers from 1 to 25 is:\", product)\n"
   ]
  },
  {
   "cell_type": "markdown",
   "id": "22d840f4-f730-484c-993c-c7f23adfe0f2",
   "metadata": {},
   "source": [
    "# Question 5"
   ]
  },
  {
   "cell_type": "markdown",
   "id": "4a3e5c37-b338-4fe4-a37b-167c63d88010",
   "metadata": {},
   "source": [
    "# Write a python program to filter the numbers in a given list that are divisible by 2 and 3 using the filter function. [2, 3, 6, 9, 27, 60, 90, 120, 55, 46]"
   ]
  },
  {
   "cell_type": "code",
   "execution_count": 13,
   "id": "c5fac34a-a7ce-4205-beb9-976491a1beea",
   "metadata": {},
   "outputs": [],
   "source": [
    "l = [2,3,6,9,27,60,90,120,55,46]"
   ]
  },
  {
   "cell_type": "code",
   "execution_count": 14,
   "id": "c9973cac-0f73-4a39-ba0e-8ee79130170b",
   "metadata": {},
   "outputs": [
    {
     "data": {
      "text/plain": [
       "[False, False, False, False, False, False, False, False, True, False]"
      ]
     },
     "execution_count": 14,
     "metadata": {},
     "output_type": "execute_result"
    }
   ],
   "source": [
    "list(map(lambda x : x%2!=0 and x%3!=0 , l))"
   ]
  },
  {
   "cell_type": "markdown",
   "id": "d3a8a1af-3f9c-40e6-b759-ce07f0f65bd0",
   "metadata": {},
   "source": [
    "# Question 6"
   ]
  },
  {
   "cell_type": "markdown",
   "id": "73dde2ed-3cc8-4a51-ab2b-5f194cf90a78",
   "metadata": {},
   "source": [
    "# Write a python program to find palindromes in the given list of strings using lambda and filterfunction. ['python', 'php', 'aba', 'radar', 'level']"
   ]
  },
  {
   "cell_type": "code",
   "execution_count": null,
   "id": "156660a7-1a04-42e3-8e54-f6d584002906",
   "metadata": {},
   "outputs": [],
   "source": []
  }
 ],
 "metadata": {
  "kernelspec": {
   "display_name": "Python 3 (ipykernel)",
   "language": "python",
   "name": "python3"
  },
  "language_info": {
   "codemirror_mode": {
    "name": "ipython",
    "version": 3
   },
   "file_extension": ".py",
   "mimetype": "text/x-python",
   "name": "python",
   "nbconvert_exporter": "python",
   "pygments_lexer": "ipython3",
   "version": "3.10.8"
  }
 },
 "nbformat": 4,
 "nbformat_minor": 5
}
